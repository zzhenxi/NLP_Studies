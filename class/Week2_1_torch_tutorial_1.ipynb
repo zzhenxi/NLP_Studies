{
  "cells": [
    {
      "cell_type": "code",
      "execution_count": null,
      "metadata": {
        "id": "xFIw-nms3d2h"
      },
      "outputs": [],
      "source": [
        "import os\n",
        "import sys\n",
        "import pandas as pd\n",
        "import numpy as np \n",
        "import torch\n",
        "import random"
      ]
    },
    {
      "cell_type": "markdown",
      "metadata": {
        "id": "qGME-bJq3d2k"
      },
      "source": [
        "# Pytorch\n",
        "Pytorch에서 입력 데이터, 출력 데이터, 그리고 학습 파라미터는 모두 `tensor`라는 데이터 구조로 되어있다.    \n",
        "Tensor는 `np.ndarray`처럼 n차원 array이지만 추가적으로 텐서 그래프와 미분값을 가지고 있다. 또한 GPU이 가능하기 때문에 딥러닝 학습에 필수적으로 사용된다. \n",
        "\n",
        "[OFFICAL TORCH DOCUMENTS](https://pytorch.org/docs/stable/torch.html#torch)\n",
        "\n",
        "# Table of Contents\n",
        "1. [tensor 생성](#tensor-생성)\n",
        "2. [tensor 정보](#tensor-정보-확인-및-변경)\n",
        "3. [tensor 인덱싱](#tensor-인덱싱)\n",
        "4. [tensor 연산](#tensor-연산)\n",
        "5. [tensor 병합 및 분리 ](#tensor-병합-및-분리)"
      ]
    },
    {
      "cell_type": "markdown",
      "metadata": {
        "id": "kk9bFBcg3d2m"
      },
      "source": [
        "## tensor 생성"
      ]
    },
    {
      "cell_type": "markdown",
      "metadata": {
        "id": "Fixl9H7XIv-J"
      },
      "source": [
        "- 기존 list 또는 np.ndarray 를 tensor로 변환"
      ]
    },
    {
      "cell_type": "code",
      "execution_count": null,
      "metadata": {
        "id": "CbtJOgX73d2m"
      },
      "outputs": [],
      "source": [
        "x = [[1],[2]]\n",
        "print(f\"x data type: {type(x)}\")\n",
        "\n",
        "x_tensor = torch.tensor(x)\n",
        "print(f\"x_tensor data type: {type(x_tensor)}\")\n",
        "\n",
        "x_np = np.array(x)\n",
        "print(f\"x_np data type: {type(x_np)}\")\n",
        "\n",
        "x_tensor = torch.from_numpy(x_np)\n",
        "print(f\"x_tensor data type: {type(x_tensor)}\")\n"
      ]
    },
    {
      "cell_type": "markdown",
      "metadata": {
        "id": "b99b9DiLIv-L"
      },
      "source": [
        "- 특정 shape의 tensor 생성"
      ]
    },
    {
      "cell_type": "code",
      "execution_count": null,
      "metadata": {
        "id": "CkPOOw4a3d2n"
      },
      "outputs": [],
      "source": [
        "# shape -> tensor\n",
        "shape = (2,3,)\n",
        "\n",
        "zero_tensor = torch.zeros(shape)\n",
        "print(f\"zero tensor: {zero_tensor}, shape: {(zero_tensor.shape)}\")\n",
        "\n",
        "one_tensor = torch.ones(shape)\n",
        "print(f\"one tensor: {one_tensor}, shape: {(one_tensor.shape)}\")\n",
        "\n",
        "rand_tensor = torch.rand(shape) # [0,1) 범위의 균등 분포에서 임의의 값 추출\n",
        "print(f\"random tensor: {rand_tensor}, shape: {(rand_tensor.shape)}\")\n",
        "\n",
        "rand_dis_tensor = torch.randn(shape) # 정규분포에서 임의 값 추출\n",
        "print(f\"random distribution tensor: {rand_dis_tensor}, shape: {(rand_dis_tensor.shape)}\")\n",
        "\n",
        "rand_int_tensor = torch.randint(10, shape) # [low,high) 범위의 int 값을 임의 추출 \n",
        "print(f\"random int tensor: {rand_int_tensor}, shape: {(rand_int_tensor.shape)}\")\n"
      ]
    },
    {
      "cell_type": "code",
      "execution_count": null,
      "metadata": {
        "id": "dNLaGVEAIv-M"
      },
      "outputs": [],
      "source": [
        "# [참고]\n",
        "import matplotlib.pyplot as plt\n",
        "sample_size = 10000\n",
        "\n",
        "uniform = np.random.rand(sample_size)\n",
        "plt.hist(uniform, density=True)\n",
        "plt.show()\n",
        "\n",
        "normal = np.random.randn(sample_size)\n",
        "plt.hist(normal, density=True)\n",
        "plt.show()"
      ]
    },
    {
      "cell_type": "markdown",
      "metadata": {
        "id": "G-OivlReIv-N"
      },
      "source": [
        "- 1D tensor 생성"
      ]
    },
    {
      "cell_type": "code",
      "execution_count": null,
      "metadata": {
        "id": "49w1ahnU3d2p"
      },
      "outputs": [],
      "source": [
        "one_dim_tensor = torch.arange(1,4,2) # start, end, step\n",
        "print(f\"일정한 간격의 1D tensor : {one_dim_tensor}\")\n",
        "\n",
        "one_dim_shaped_tensor = torch.arange(1*2*3)\n",
        "print(f\"{one_dim_shaped_tensor}\")\n",
        "print(f\"Shaped : {one_dim_shaped_tensor.view(1,2,3)}\")"
      ]
    },
    {
      "cell_type": "markdown",
      "metadata": {
        "id": "EtOAnoAr3d2p"
      },
      "source": [
        "## tensor 정보 확인 및 변경\n",
        "- rank\n",
        "    - dimension 개수\n",
        "- shape\n",
        "    - 각 dimension의 value 개수 \n",
        "- axis\n",
        "    - 특정 dimension 지칭 \n",
        "\n",
        "<img src=\"https://github.com/ChristinaROK/PreOnboarding_AI_assets/blob/36a670a7b6233d5218a495150beb337a899ecb70/week2/week2_1_tensor_axis.png?raw=true\" alt=\"tensor_axis\" width=500>\n",
        "\n",
        "\n",
        "- data type\n",
        "- device\n",
        "\n",
        "[출처](https://medium.com/byte-sized-code/common-placeholders-in-numpy-arrays-1c3673718f2f)"
      ]
    },
    {
      "cell_type": "code",
      "execution_count": null,
      "metadata": {
        "id": "3bNCtC1Q3d2q"
      },
      "outputs": [],
      "source": [
        "x = torch.rand(4,3,2)\n",
        "print(f\"Rank : {len(x.shape)}\")\n",
        "print(f\"Shape : {x.shape}\")"
      ]
    },
    {
      "cell_type": "code",
      "execution_count": null,
      "metadata": {
        "id": "CVkguodbIv-Q"
      },
      "outputs": [],
      "source": [
        "# shape 변경\n",
        "print(x.view(-1,2,2).shape)\n",
        "\n",
        "xx = x.view(4,6,-1)\n",
        "xx.shape"
      ]
    },
    {
      "cell_type": "code",
      "execution_count": null,
      "metadata": {
        "id": "RraTVouDIv-Q"
      },
      "outputs": [],
      "source": [
        "# rank 변경\n",
        "xxx = xx.squeeze()\n",
        "print(xxx.shape)\n",
        "print(xxx.unsqueeze(dim=-1).shape)"
      ]
    },
    {
      "cell_type": "code",
      "execution_count": null,
      "metadata": {
        "id": "iixnZ7ucIv-R"
      },
      "outputs": [],
      "source": [
        "print(f\"Data Type: {x.dtype}\")\n",
        "print(f\"Device: {x.device}\")"
      ]
    },
    {
      "cell_type": "markdown",
      "metadata": {
        "id": "vyj7YHqc3d2q"
      },
      "source": [
        "## tensor 인덱싱\n",
        "- tensor indexing으로 특정 행, 열의 값을 변경할 수 있음. \n",
        "    - broadcasting"
      ]
    },
    {
      "cell_type": "code",
      "execution_count": null,
      "metadata": {
        "id": "L5U-rjZo3d2q"
      },
      "outputs": [],
      "source": [
        "x = torch.rand(2,3)\n",
        "print(f\"Tensor : \\n{x}\")\n",
        "\n",
        "print(f\"1st row : {x[0]}\")\n",
        "print(f\"1st column : {x[:,0]}\")\n",
        "print(f\"last column : {x[:,-1]}\")\n",
        "\n",
        "x[:,-1] = 0 # broadcasting\n",
        "\n",
        "print(f\"last column : {x[:,-1]}\")"
      ]
    },
    {
      "cell_type": "code",
      "execution_count": null,
      "metadata": {
        "id": "6_KnoDZ4Iv-S"
      },
      "outputs": [],
      "source": [
        "x"
      ]
    },
    {
      "cell_type": "code",
      "execution_count": null,
      "metadata": {
        "id": "tTaoN4hL3d2s"
      },
      "outputs": [],
      "source": [
        "x > 0.5"
      ]
    },
    {
      "cell_type": "code",
      "execution_count": null,
      "metadata": {
        "id": "gFfggRgfIv-S"
      },
      "outputs": [],
      "source": [
        "# masking\n",
        "x * (x>0.5)"
      ]
    },
    {
      "cell_type": "markdown",
      "metadata": {
        "id": "oXZJOD58Iv-T"
      },
      "source": [
        "### [추가] 특정 index 얻기 "
      ]
    },
    {
      "cell_type": "code",
      "execution_count": null,
      "metadata": {
        "id": "xf5RAjgGIv-T"
      },
      "outputs": [],
      "source": [
        "print((x > 0.5).nonzero())\n",
        "axis0, axis1 = (x > 0.5).nonzero(as_tuple=True)"
      ]
    },
    {
      "cell_type": "code",
      "execution_count": null,
      "metadata": {
        "id": "sIncOIYIIv-T"
      },
      "outputs": [],
      "source": [
        "for i in range(len(axis0)):\n",
        "    print(x[axis0[i]][axis1[i]])"
      ]
    },
    {
      "cell_type": "markdown",
      "metadata": {
        "id": "SwO_PALr3d2r"
      },
      "source": [
        "## tensor 연산"
      ]
    },
    {
      "cell_type": "code",
      "execution_count": null,
      "metadata": {
        "id": "scXgA8XO3d2r"
      },
      "outputs": [],
      "source": [
        "# 덧셈\n",
        "x = torch.ones(3,2,4)\n",
        "print(f\"Type : {x.shape}\")\n",
        "\n",
        "print(x.sum(dim=0, keepdim=True).shape)\n",
        "print(x.sum(dim=0, keepdim=False).shape) # size 1인 dimension을 squeeze\n",
        "print(x.sum(dim=0, keepdim=True).squeeze().shape)\n",
        "\n",
        "print(x.sum(dim=1, keepdim=True).shape)\n",
        "print(x.sum(dim=2, keepdim=True).shape)"
      ]
    },
    {
      "cell_type": "code",
      "execution_count": null,
      "metadata": {
        "id": "8Evycfgw3d2r"
      },
      "outputs": [],
      "source": [
        "# 곱셈\n",
        "shape = (2,1) # (1,2)\n",
        "x = torch.randint(10,shape)\n",
        "y = torch.randint(10,shape)\n",
        "print(f\"x : {x} \\ny : {y}\")\n",
        "\n",
        "print(torch.matmul(x,y.T))\n",
        "print(x@y.T)\n",
        "\n",
        "# [주의] matrix multiplication은 element-wise 곱과 다르다\n",
        "print(torch.mul(x,y))\n",
        "print(x*y)\n",
        "print(x*y.T)"
      ]
    },
    {
      "cell_type": "code",
      "execution_count": null,
      "metadata": {
        "id": "3kDNt0hd3d2s"
      },
      "outputs": [],
      "source": [
        "# dot product -> 1d vector의 곱 연산의 합 -> output: scalar\n",
        "shape = (2,)\n",
        "x = torch.randint(10,shape)\n",
        "y = torch.randint(10,shape)\n",
        "print(f\"x : {x} \\ny : {y}\")\n",
        "\n",
        "print(torch.dot(x,y))\n",
        "print(x@y)\n",
        "print((x*y).sum())"
      ]
    },
    {
      "cell_type": "markdown",
      "metadata": {
        "id": "7_6ez4wa3d2s"
      },
      "source": [
        "## tensor 병합 및 분리"
      ]
    },
    {
      "cell_type": "code",
      "execution_count": null,
      "metadata": {
        "id": "P42elhDk3d2s"
      },
      "outputs": [],
      "source": [
        "# 병합\n",
        "x = torch.randint(10,(1,2))\n",
        "print(x)\n",
        "\n",
        "x_concat = torch.cat([x,x,x], dim=1)\n",
        "print(f\"Concat : {x_concat} shape: {x_concat.shape}\")\n",
        "\n",
        "torch.cat([x,x,x], dim=0).shape"
      ]
    }
  ],
  "metadata": {
    "accelerator": "GPU",
    "colab": {
      "collapsed_sections": [],
      "name": "Week2_1_torch_tutorial_1.ipynb",
      "provenance": []
    },
    "kernelspec": {
      "display_name": "torch",
      "language": "python",
      "name": "torch"
    },
    "language_info": {
      "codemirror_mode": {
        "name": "ipython",
        "version": 3
      },
      "file_extension": ".py",
      "mimetype": "text/x-python",
      "name": "python",
      "nbconvert_exporter": "python",
      "pygments_lexer": "ipython3",
      "version": "3.8.11"
    }
  },
  "nbformat": 4,
  "nbformat_minor": 0
}